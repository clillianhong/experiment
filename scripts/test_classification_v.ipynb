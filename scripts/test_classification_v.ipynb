{
 "cells": [
  {
   "cell_type": "code",
   "execution_count": null,
   "metadata": {},
   "outputs": [],
   "source": [
    "# import libraries\n",
    "import fastai\n",
    "from fastai import *\n",
    "from fastai.text import * \n",
    "import pandas as pd\n",
    "import numpy as np\n",
    "from functools import partial\n",
    "import io\n",
    "import os\n",
    "from sklearn.model_selection import train_test_split\n"
   ]
  },
  {
   "cell_type": "code",
   "execution_count": null,
   "metadata": {},
   "outputs": [],
   "source": [
    "data = pd.read_csv(\"category_features_TEST_1.csv\") # REPLACE CSV FILE FOR TEST DATA \n",
    "df = pd.DataFrame({'label':data.label, 'text':data.text})\n",
    "tester = df['text']\n",
    "from sklearn.model_selection import train_test_split\n",
    "\n",
    "# split data into training and validation set\n",
    "df_trn_l, df_val_l = train_test_split(df, stratify = df['label'], test_size = 0.1, random_state = 12)\n",
    "df_trn, df_val = train_test_split(df, stratify = df['label'], test_size = 0.3, random_state = 12)\n",
    "\n",
    "#language model data - vectorization \n",
    "data_lm = TextLMDataBunch.from_df(train_df=df_trn, valid_df=df_val, path = \"\")\n",
    "\n",
    "# Classifier model data - \n",
    "data_clas = TextClasDataBunch.from_df(path = \"\", train_df = df_trn, valid_df = df_val, vocab=data_lm.train_ds.vocab, bs=32)\n",
    "\n",
    "learn = text_classifier_learner(data_clas, arch=AWD_LSTM, drop_mult=0.5)\n"
   ]
  },
  {
   "cell_type": "code",
   "execution_count": null,
   "metadata": {},
   "outputs": [],
   "source": [
    "# learn.set_data(set_data([19072,400], 32))\n",
    "learn = load_learner('models/', \"classification_mod.pkl\") #LOAD MODEL \n",
    "\n",
    "labels = df['label']\n",
    "tester = df['text']\n",
    "\n",
    "correct = 0\n",
    "for i in range(len(tester)):\n",
    "    cat, _, _ = learn.predict(tester[i])\n",
    "    \n",
    "    if str(cat) == labels[i]:\n",
    "        correct+=1\n",
    "        \n",
    "print(correct/len(tester)*100)"
   ]
  }
 ],
 "metadata": {
  "kernelspec": {
   "display_name": "Python 3",
   "language": "python",
   "name": "python3"
  },
  "language_info": {
   "codemirror_mode": {
    "name": "ipython",
    "version": 3
   },
   "file_extension": ".py",
   "mimetype": "text/x-python",
   "name": "python",
   "nbconvert_exporter": "python",
   "pygments_lexer": "ipython3",
   "version": "3.6.7"
  }
 },
 "nbformat": 4,
 "nbformat_minor": 2
}
