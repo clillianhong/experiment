{
 "cells": [
  {
   "cell_type": "code",
   "execution_count": null,
   "metadata": {
    "colab": {},
    "colab_type": "code",
    "id": "K67OHi9MU_qF"
   },
   "outputs": [],
   "source": [
    "# import libraries\n",
    "import fastai\n",
    "from fastai import *\n",
    "from fastai.text import * \n",
    "import pandas as pd\n",
    "import numpy as np\n",
    "from functools import partial\n",
    "import io\n",
    "import os\n"
   ]
  },
  {
   "cell_type": "markdown",
   "metadata": {
    "colab_type": "text",
    "id": "e-VwQFLtU_qY"
   },
   "source": [
    "test set: https://forums.fast.ai/t/how-to-add-a-test-set/38956/7\n",
    "text.data reference methods: https://docs.fast.ai/text.html"
   ]
  },
  {
   "cell_type": "code",
   "execution_count": null,
   "metadata": {
    "colab": {},
    "colab_type": "code",
    "id": "haCrL1aYU_qb"
   },
   "outputs": [],
   "source": [
    "data = pd.read_csv(\"https://raw.githubusercontent.com/clillianhong/experiment/master/scripts/data/type_data/type_features_produce.csv\")"
   ]
  },
  {
   "cell_type": "code",
   "execution_count": null,
   "metadata": {
    "colab": {},
    "colab_type": "code",
    "id": "jDnBO0K-U_qh"
   },
   "outputs": [],
   "source": [
    "df = pd.DataFrame({'label':data.label, 'text':data.text})"
   ]
  },
  {
   "cell_type": "code",
   "execution_count": null,
   "metadata": {
    "colab": {
     "base_uri": "https://localhost:8080/",
     "height": 382
    },
    "colab_type": "code",
    "executionInfo": {
     "elapsed": 11181,
     "status": "error",
     "timestamp": 1565042653000,
     "user": {
      "displayName": "Lillian Hong",
      "photoUrl": "",
      "userId": "14261434404733629444"
     },
     "user_tz": 240
    },
    "id": "B0cZSfV8U_qv",
    "outputId": "dae24694-02b0-4542-fd83-adf8a32e038a"
   },
   "outputs": [],
   "source": [
    "df['text'] = df['text'].str.replace(\"[^a-zA-Z]\", \" \")\n",
    "import nltk \n",
    "nltk.download('stopwords')\n",
    "from nltk.corpus import stopwords\n",
    "stop_words = stopwords.words('english')\n",
    "\n",
    "#tokenization \n",
    "tokenized_doc = df['text'].apply(lambda x: x.split())\n",
    "\n",
    "#remove stop-words\n",
    "tokenized_doc = tokenized_doc.apply(lambda x: [item for item in x if item not in stop_words])"
   ]
  },
  {
   "cell_type": "code",
   "execution_count": null,
   "metadata": {
    "colab": {},
    "colab_type": "code",
    "id": "iLms2eyhU_q0"
   },
   "outputs": [],
   "source": [
    "\n",
    "detokenized_doc = []\n",
    "for i in range(len(df)):\n",
    "    t = ' '.join(tokenized_doc[i])\n",
    "    detokenized_doc.append(t)\n",
    "    \n",
    "df['text'] = detokenized_doc"
   ]
  },
  {
   "cell_type": "code",
   "execution_count": null,
   "metadata": {
    "colab": {
     "base_uri": "https://localhost:8080/",
     "height": 34
    },
    "colab_type": "code",
    "executionInfo": {
     "elapsed": 908,
     "status": "ok",
     "timestamp": 1565382537590,
     "user": {
      "displayName": "Lillian Hong",
      "photoUrl": "",
      "userId": "14261434404733629444"
     },
     "user_tz": 240
    },
    "id": "vtRcKgGJU_q4",
    "outputId": "6320cc7c-cb8d-4fe9-dd80-32083beb13aa"
   },
   "outputs": [],
   "source": [
    "from sklearn.model_selection import train_test_split\n",
    "\n",
    "# split data into training and validation set\n",
    "df_trn_l, df_val_l = train_test_split(df, stratify = df['label'], test_size = 0.1, random_state = 12)\n",
    "df_trn, df_val = train_test_split(df, stratify = df['label'], test_size = 0.3, random_state = 12)\n",
    "\n",
    "df_trn.shape, df_val.shape"
   ]
  },
  {
   "cell_type": "code",
   "execution_count": null,
   "metadata": {
    "colab": {},
    "colab_type": "code",
    "id": "Z5WfMHVwU_rH"
   },
   "outputs": [],
   "source": [
    "#language model data - vectorization \n",
    "data_lm = TextLMDataBunch.from_df(train_df=df_trn_l, valid_df=df_val_l, path = \"\") #potentially change to use all of the data \n",
    "\n",
    "# Classifier model data - \n",
    "data_clas = TextClasDataBunch.from_df(path = \"\", train_df = df_trn, valid_df = df_val, vocab=data_lm.train_ds.vocab, bs=32)\n"
   ]
  },
  {
   "cell_type": "code",
   "execution_count": null,
   "metadata": {
    "colab": {},
    "colab_type": "code",
    "id": "cG1whDltU_rN"
   },
   "outputs": [],
   "source": [
    "learn = language_model_learner(data_lm, arch=AWD_LSTM, drop_mult=0.5)\n"
   ]
  },
  {
   "cell_type": "code",
   "execution_count": null,
   "metadata": {
    "colab": {
     "base_uri": "https://localhost:8080/",
     "height": 300
    },
    "colab_type": "code",
    "executionInfo": {
     "elapsed": 13248,
     "status": "ok",
     "timestamp": 1565382602130,
     "user": {
      "displayName": "Lillian Hong",
      "photoUrl": "",
      "userId": "14261434404733629444"
     },
     "user_tz": 240
    },
    "id": "zN9otDVdU_rS",
    "outputId": "567790c8-9de4-44c1-9ee7-ee9af1185d9e"
   },
   "outputs": [],
   "source": [
    "learn.lr_find(start_lr=1e-5, end_lr=10000)\n",
    "learn.recorder.plot()"
   ]
  },
  {
   "cell_type": "code",
   "execution_count": null,
   "metadata": {
    "colab": {
     "base_uri": "https://localhost:8080/",
     "height": 81
    },
    "colab_type": "code",
    "executionInfo": {
     "elapsed": 8782,
     "status": "ok",
     "timestamp": 1565382663368,
     "user": {
      "displayName": "Lillian Hong",
      "photoUrl": "",
      "userId": "14261434404733629444"
     },
     "user_tz": 240
    },
    "id": "isoRQY1AU_rn",
    "outputId": "fb801d1b-b145-4277-8b4a-aa4bcdd1a589"
   },
   "outputs": [],
   "source": [
    "learn.fit_one_cycle(1, 1e-2, moms=(0.8,0.7))"
   ]
  },
  {
   "cell_type": "code",
   "execution_count": null,
   "metadata": {
    "colab": {
     "base_uri": "https://localhost:8080/",
     "height": 112
    },
    "colab_type": "code",
    "executionInfo": {
     "elapsed": 30849,
     "status": "ok",
     "timestamp": 1565382687300,
     "user": {
      "displayName": "Lillian Hong",
      "photoUrl": "",
      "userId": "14261434404733629444"
     },
     "user_tz": 240
    },
    "id": "Cv3RpvbCU_r0",
    "outputId": "876ab87f-388d-46cc-f30b-76111288dd0e",
    "scrolled": true
   },
   "outputs": [],
   "source": [
    "learn.unfreeze()\n",
    "learn.fit_one_cycle(2, 1e-3, moms=(0.8,0.7)) #decrease learning rate by a factor of 10? why? "
   ]
  },
  {
   "cell_type": "code",
   "execution_count": null,
   "metadata": {
    "colab": {},
    "colab_type": "code",
    "id": "3ttRGGgyU_r_"
   },
   "outputs": [],
   "source": [
    "learn.save_encoder('ft_enc_best')"
   ]
  },
  {
   "cell_type": "code",
   "execution_count": null,
   "metadata": {
    "colab": {
     "base_uri": "https://localhost:8080/",
     "height": 34
    },
    "colab_type": "code",
    "executionInfo": {
     "elapsed": 284667,
     "status": "ok",
     "timestamp": 1565379726935,
     "user": {
      "displayName": "Lillian Hong",
      "photoUrl": "",
      "userId": "14261434404733629444"
     },
     "user_tz": 240
    },
    "id": "Wbv8gbh6U_sE",
    "outputId": "f1130c41-a515-46a9-c55e-77b6b0200842"
   },
   "outputs": [],
   "source": [
    "from google.colab import drive\n",
    "drive.mount('/content/gdrive')"
   ]
  },
  {
   "cell_type": "code",
   "execution_count": null,
   "metadata": {
    "colab": {},
    "colab_type": "code",
    "id": "lt6iSXvM-BTV"
   },
   "outputs": [],
   "source": []
  },
  {
   "cell_type": "code",
   "execution_count": null,
   "metadata": {
    "colab": {},
    "colab_type": "code",
    "id": "eImagE1UU_sL"
   },
   "outputs": [],
   "source": [
    "learn = text_classifier_learner(data_clas, arch=AWD_LSTM, drop_mult=0.5)\n",
    "learn.load_encoder('ft_enc_best')\n",
    "learn.freeze()"
   ]
  },
  {
   "cell_type": "code",
   "execution_count": null,
   "metadata": {
    "colab": {
     "base_uri": "https://localhost:8080/",
     "height": 300
    },
    "colab_type": "code",
    "executionInfo": {
     "elapsed": 11043,
     "status": "ok",
     "timestamp": 1565382730104,
     "user": {
      "displayName": "Lillian Hong",
      "photoUrl": "",
      "userId": "14261434404733629444"
     },
     "user_tz": 240
    },
    "id": "cj3u-QWuU_sU",
    "outputId": "02e4d772-f884-4850-cf82-a648b686d074"
   },
   "outputs": [],
   "source": [
    "learn.lr_find()\n",
    "learn.recorder.plot()"
   ]
  },
  {
   "cell_type": "code",
   "execution_count": null,
   "metadata": {
    "colab": {
     "base_uri": "https://localhost:8080/",
     "height": 81
    },
    "colab_type": "code",
    "executionInfo": {
     "elapsed": 6658,
     "status": "ok",
     "timestamp": 1565382740565,
     "user": {
      "displayName": "Lillian Hong",
      "photoUrl": "",
      "userId": "14261434404733629444"
     },
     "user_tz": 240
    },
    "id": "bmn6Fz2GU_sZ",
    "outputId": "c98525b9-1d0e-44ec-cc4f-d7e82166f1cf"
   },
   "outputs": [],
   "source": [
    "learn1 = learn\n",
    "learn1.fit_one_cycle(1, 1e-3, moms=(0.8,0.7))\n",
    "learn1.save('clas_first') \n"
   ]
  },
  {
   "cell_type": "code",
   "execution_count": null,
   "metadata": {
    "colab": {
     "base_uri": "https://localhost:8080/",
     "height": 81
    },
    "colab_type": "code",
    "executionInfo": {
     "elapsed": 8703,
     "status": "ok",
     "timestamp": 1565382766566,
     "user": {
      "displayName": "Lillian Hong",
      "photoUrl": "",
      "userId": "14261434404733629444"
     },
     "user_tz": 240
    },
    "id": "bPuzhtqOU_sh",
    "outputId": "fe869573-61bb-430a-b3e7-e9bec6234667"
   },
   "outputs": [],
   "source": [
    "learn1.freeze_to(-2)\n",
    "learn1.fit_one_cycle(1, 1e-3, moms=(0.8,0.7))  #decrease learning rate by a factor of 10? \n",
    "learn1.save('clas_first_1')"
   ]
  },
  {
   "cell_type": "code",
   "execution_count": null,
   "metadata": {
    "colab": {
     "base_uri": "https://localhost:8080/",
     "height": 81
    },
    "colab_type": "code",
    "executionInfo": {
     "elapsed": 19612,
     "status": "ok",
     "timestamp": 1565382778444,
     "user": {
      "displayName": "Lillian Hong",
      "photoUrl": "",
      "userId": "14261434404733629444"
     },
     "user_tz": 240
    },
    "id": "GfFw9F4UU_so",
    "outputId": "4f401c48-f06c-4cf1-f2f6-fb797e4387d8"
   },
   "outputs": [],
   "source": [
    "learn1.freeze_to(-3)\n",
    "learn1.fit_one_cycle(1, 1e-3, moms=(0.8,0.7))  #decrease learning rate to middle of spike down? (factor of 10?)\n",
    "learn1.save('clas_first_2')\n"
   ]
  },
  {
   "cell_type": "code",
   "execution_count": null,
   "metadata": {
    "colab": {},
    "colab_type": "code",
    "id": "hPsmIW1x0HWm"
   },
   "outputs": [],
   "source": []
  },
  {
   "cell_type": "code",
   "execution_count": null,
   "metadata": {
    "colab": {
     "base_uri": "https://localhost:8080/",
     "height": 81
    },
    "colab_type": "code",
    "executionInfo": {
     "elapsed": 33712,
     "status": "ok",
     "timestamp": 1565382053464,
     "user": {
      "displayName": "Lillian Hong",
      "photoUrl": "",
      "userId": "14261434404733629444"
     },
     "user_tz": 240
    },
    "id": "pi4M8zAnU_sz",
    "outputId": "1da68ad5-822f-44ed-a666-414da4559ba6",
    "scrolled": false
   },
   "outputs": [],
   "source": [
    "learn1.unfreeze()\n",
    "learn1.fit_one_cycle(1, 1e-3, moms=(0.8,0.7))  #decrease lr slightly further"
   ]
  },
  {
   "cell_type": "code",
   "execution_count": null,
   "metadata": {
    "colab": {},
    "colab_type": "code",
    "id": "6IGb5vULU_s8"
   },
   "outputs": [],
   "source": [
    "learn1.export('/content/gdrive/My Drive/type_produce_classifier.pkl')"
   ]
  },
  {
   "cell_type": "markdown",
   "metadata": {
    "colab_type": "text",
    "id": "mc81QZJhovg8"
   },
   "source": []
  },
  {
   "cell_type": "code",
   "execution_count": null,
   "metadata": {
    "colab": {
     "base_uri": "https://localhost:8080/",
     "height": 311
    },
    "colab_type": "code",
    "executionInfo": {
     "elapsed": 20,
     "status": "ok",
     "timestamp": 1565374633514,
     "user": {
      "displayName": "Lillian Hong",
      "photoUrl": "",
      "userId": "14261434404733629444"
     },
     "user_tz": 240
    },
    "id": "nxdatl3rU_s_",
    "outputId": "e4d8beb0-1a55-4332-c08d-1b19e7ac3a85"
   },
   "outputs": [],
   "source": [
    "interp = ClassificationInterpretation.from_learner(learn1)\n",
    "interp.plot_confusion_matrix()"
   ]
  }
 ],
 "metadata": {
  "accelerator": "GPU",
  "colab": {
   "collapsed_sections": [],
   "name": "train_types.ipynb",
   "provenance": [
    {
     "file_id": "https://github.com/clillianhong/experiment/blob/master/scripts/data_formatting.ipynb",
     "timestamp": 1563468242121
    }
   ],
   "version": "0.3.2"
  },
  "kernelspec": {
   "display_name": "Python 3",
   "language": "python",
   "name": "python3"
  },
  "language_info": {
   "codemirror_mode": {
    "name": "ipython",
    "version": 3
   },
   "file_extension": ".py",
   "mimetype": "text/x-python",
   "name": "python",
   "nbconvert_exporter": "python",
   "pygments_lexer": "ipython3",
   "version": "3.6.7"
  }
 },
 "nbformat": 4,
 "nbformat_minor": 1
}
